{
 "cells": [
  {
   "cell_type": "code",
   "execution_count": 1,
   "id": "generic-consortium",
   "metadata": {},
   "outputs": [
    {
     "name": "stdout",
     "output_type": "stream",
     "text": [
      "C:\\Users\\pinak\\Documents\\GitHub\\tc63\n"
     ]
    }
   ],
   "source": [
    "# add modules folder to Python's search path\n",
    "import sys\n",
    "from pathlib import Path\n",
    "from os.path import dirname, realpath, abspath\n",
    "script_dir = Path(abspath(''))#Path(dirname(realpath(__file__)))\n",
    "module_dir = str(script_dir.parent)\n",
    "sys.path.insert(0, module_dir + '/modules')\n",
    "print(module_dir)\n",
    "# import the rest of the libraries\n",
    "import gan\n",
    "import tensorflow as tf\n",
    "import numpy as np\n",
    "\n",
    "data_folder = '../data'"
   ]
  },
  {
   "cell_type": "code",
   "execution_count": 2,
   "id": "public-degree",
   "metadata": {},
   "outputs": [],
   "source": [
    "nn = gan.GAN(data_folder)\n",
    "train, test = gan.get_data_pipeline('{}/trajectories.npy'.format(data_folder), '{}/observations.npy'.format(data_folder), 0.2)"
   ]
  },
  {
   "cell_type": "code",
   "execution_count": null,
   "id": "round-dominican",
   "metadata": {},
   "outputs": [
    {
     "name": "stdout",
     "output_type": "stream",
     "text": [
      "Step: 0-th hundred\n",
      "step #97:\r"
     ]
    }
   ],
   "source": [
    "nn.fit(train, 200)"
   ]
  },
  {
   "cell_type": "code",
   "execution_count": null,
   "id": "deluxe-prior",
   "metadata": {},
   "outputs": [],
   "source": []
  }
 ],
 "metadata": {
  "kernelspec": {
   "display_name": "Python 3",
   "language": "python",
   "name": "python3"
  },
  "language_info": {
   "codemirror_mode": {
    "name": "ipython",
    "version": 3
   },
   "file_extension": ".py",
   "mimetype": "text/x-python",
   "name": "python",
   "nbconvert_exporter": "python",
   "pygments_lexer": "ipython3",
   "version": "3.8.3"
  }
 },
 "nbformat": 4,
 "nbformat_minor": 5
}
