{
 "cells": [
  {
   "cell_type": "code",
   "execution_count": 1,
   "id": "given-brook",
   "metadata": {},
   "outputs": [
    {
     "name": "stdout",
     "output_type": "stream",
     "text": [
      "C:\\Users\\pinak\\Documents\\GitHub\\tc63\n"
     ]
    }
   ],
   "source": [
    "# add modules folder to Python's search path\n",
    "import sys\n",
    "from pathlib import Path\n",
    "from os.path import dirname, realpath, abspath\n",
    "script_dir = Path(abspath(''))#Path(dirname(realpath(__file__)))\n",
    "module_dir = str(script_dir.parent)\n",
    "sys.path.insert(0, module_dir + '/modules')\n",
    "print(module_dir)\n",
    "# import the rest of the libraries\n",
    "import gan\n",
    "import tensorflow as tf\n",
    "import numpy as np\n",
    "\n",
    "data_folder = '../data'"
   ]
  },
  {
   "cell_type": "code",
   "execution_count": 2,
   "id": "silver-harbor",
   "metadata": {},
   "outputs": [],
   "source": [
    "nn = gan.GAN(data_folder)\n",
    "train, test = gan.get_data_pipeline('{}/trajectories.npy'.format(data_folder), '{}/observations.npy'.format(data_folder), 0.2)\n",
    "test_obs, test_true = test"
   ]
  },
  {
   "cell_type": "code",
   "execution_count": null,
   "id": "civilian-reconstruction",
   "metadata": {},
   "outputs": [
    {
     "name": "stdout",
     "output_type": "stream",
     "text": [
      "Step: 0-th hundred\n",
      "Time taken for 100 steps: 44.11 sec\n",
      "\n",
      "Step: 1-th hundred\n",
      "Time taken for 100 steps: 44.06 sec\n",
      "\n",
      "Step: 2-th hundred\n",
      "Time taken for 100 steps: 42.45 sec\n",
      "\n",
      "Step: 3-th hundred\n",
      "Time taken for 100 steps: 44.33 sec\n",
      "\n",
      "Step: 4-th hundred\n",
      "Time taken for 100 steps: 43.87 sec\n",
      "\n",
      "Step: 5-th hundred\n",
      "Time taken for 100 steps: 42.42 sec\n",
      "\n",
      "Step: 6-th hundred\n",
      "step #659:\r"
     ]
    }
   ],
   "source": [
    "nn.load()\n",
    "nn.fit(train, 1000)\n",
    "nn.save()\n",
    "nn.evaluate(test_obs[:5], test_true[:5], [0, 2])"
   ]
  }
 ],
 "metadata": {
  "kernelspec": {
   "display_name": "Python 3",
   "language": "python",
   "name": "python3"
  },
  "language_info": {
   "codemirror_mode": {
    "name": "ipython",
    "version": 3
   },
   "file_extension": ".py",
   "mimetype": "text/x-python",
   "name": "python",
   "nbconvert_exporter": "python",
   "pygments_lexer": "ipython3",
   "version": "3.8.3"
  }
 },
 "nbformat": 4,
 "nbformat_minor": 5
}
